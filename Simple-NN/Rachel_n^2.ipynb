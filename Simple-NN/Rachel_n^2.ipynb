{
  "nbformat": 4,
  "nbformat_minor": 2,
  "metadata": {
    "colab": {
      "name": "Rachel-n^2.ipynb",
      "provenance": [],
      "collapsed_sections": []
    },
    "kernelspec": {
      "name": "python3",
      "display_name": "Python 3.9.4 64-bit ('physB': conda)"
    },
    "language_info": {
      "name": "python",
      "version": "3.9.4",
      "mimetype": "text/x-python",
      "codemirror_mode": {
        "name": "ipython",
        "version": 3
      },
      "pygments_lexer": "ipython3",
      "nbconvert_exporter": "python",
      "file_extension": ".py"
    },
    "interpreter": {
      "hash": "203f0f36c38a13ce78875153ce5b45afd1f0afe71879bf308342ffcdf3ba613f"
    }
  },
  "cells": [
    {
      "cell_type": "code",
      "execution_count": 1,
      "source": [
        "import math\n",
        "import matplotlib.pyplot as plt\n",
        "#import random\n",
        "#import pprint\n",
        "import torch\n",
        "from torch import nn"
      ],
      "outputs": [
        {
          "output_type": "error",
          "ename": "ModuleNotFoundError",
          "evalue": "No module named 'torch'",
          "traceback": [
            "\u001b[0;31m---------------------------------------------------------------------------\u001b[0m",
            "\u001b[0;31mModuleNotFoundError\u001b[0m                       Traceback (most recent call last)",
            "\u001b[0;32m<ipython-input-1-03a2a1a65e6d>\u001b[0m in \u001b[0;36m<module>\u001b[0;34m\u001b[0m\n\u001b[1;32m      3\u001b[0m \u001b[0;31m#import random\u001b[0m\u001b[0;34m\u001b[0m\u001b[0;34m\u001b[0m\u001b[0;34m\u001b[0m\u001b[0m\n\u001b[1;32m      4\u001b[0m \u001b[0;31m#import pprint\u001b[0m\u001b[0;34m\u001b[0m\u001b[0;34m\u001b[0m\u001b[0;34m\u001b[0m\u001b[0m\n\u001b[0;32m----> 5\u001b[0;31m \u001b[0;32mimport\u001b[0m \u001b[0mtorch\u001b[0m\u001b[0;34m\u001b[0m\u001b[0;34m\u001b[0m\u001b[0m\n\u001b[0m\u001b[1;32m      6\u001b[0m \u001b[0;32mfrom\u001b[0m \u001b[0mtorch\u001b[0m \u001b[0;32mimport\u001b[0m \u001b[0mnn\u001b[0m\u001b[0;34m\u001b[0m\u001b[0;34m\u001b[0m\u001b[0m\n",
            "\u001b[0;31mModuleNotFoundError\u001b[0m: No module named 'torch'"
          ]
        }
      ],
      "metadata": {
        "id": "Di-fHleY8X-W"
      }
    },
    {
      "cell_type": "code",
      "execution_count": null,
      "source": [
        "# Create a list of sets of N random numbers for training data\n",
        "domain = 8\n",
        "N = 2 # N elements in later array\n",
        "inputs = torch.FloatTensor(10000, N).uniform_((-1*domain),domain)\n",
        "outputs = inputs\n",
        "\n",
        "def makeTrainingData():\n",
        "    # Create a list of sets of N random numbers for training data\n",
        "    domain = 25\n",
        "    N = 2 # N elements in later array\n",
        "    inputs = torch.FloatTensor(10000, N).uniform_((-1*domain),domain)\n",
        "    outputs = inputs**2\n",
        "\n",
        "    # Print input and output tensor training data\n",
        "    print(\"Inputs:\")\n",
        "    print(inputs)\n",
        "    print(\"Outputs:\")\n",
        "    print(outputs)\n"
      ],
      "outputs": [
        {
          "output_type": "stream",
          "name": "stdout",
          "text": [
            "Inputs:\n",
            "tensor([[ 7.6077,  4.8572],\n",
            "        [ 6.2838,  6.0058],\n",
            "        [-5.3425,  6.1312],\n",
            "        ...,\n",
            "        [-4.8164,  7.7415],\n",
            "        [ 0.9748,  6.0716],\n",
            "        [ 7.1076, -1.3976]])\n",
            "Outputs:\n",
            "tensor([[ 440.3088,  114.5911],\n",
            "        [ 248.1199,  216.6312],\n",
            "        [-152.4915,  230.4789],\n",
            "        ...,\n",
            "        [-111.7324,  463.9479],\n",
            "        [   0.9262,  223.8223],\n",
            "        [ 359.0576,   -2.7300]])\n"
          ]
        }
      ],
      "metadata": {
        "id": "XTbxl8sX80j5",
        "colab": {
          "base_uri": "https://localhost:8080/"
        },
        "outputId": "8e6e496a-b1c2-4cf7-e945-5b3d4a9ddd9c"
      }
    },
    {
      "cell_type": "code",
      "execution_count": null,
      "source": [
        "# Create the neural network\n",
        "hidden_nodes = 500\n",
        "model = torch.nn.Sequential(\n",
        "   torch.nn.Linear(inputs.shape[1],hidden_nodes),\n",
        "    torch.nn.ReLU(),\n",
        "    #torch.nn.Linear(hidden_nodes,hidden_nodes),\n",
        "    #torch.nn.ReLU(),\n",
        "    torch.nn.Linear(hidden_nodes,outputs.shape[1])\n",
        ")\n",
        "def makeModel():\n",
        "    # Create the neural network\n",
        "    hidden_nodes = 500\n",
        "    model = torch.nn.Sequential(\n",
        "        torch.nn.Linear(inputs.shape[1],hidden_nodes),\n",
        "        torch.nn.ReLU(),\n",
        "        #torch.nn.Linear(hidden_nodes,hidden_nodes),\n",
        "        #torch.nn.ReLU(),\n",
        "        torch.nn.Linear(hidden_nodes,outputs.shape[1])\n",
        "    )"
      ],
      "outputs": [],
      "metadata": {
        "id": "PaMtVJQC_zg3"
      }
    },
    {
      "cell_type": "code",
      "execution_count": null,
      "source": [
        "def trainModel():\n",
        "    # Get ready to train\n",
        "    model.train()\n",
        "\n",
        "    # Break the list up into smaller batches for more efficient training\n",
        "    numMiniBatch = int(math.floor(inputs.shape[0]/100.))\n",
        "    inputMiniBatches = inputs.chunk(numMiniBatch)\n",
        "    outputMiniBatches = outputs.chunk(numMiniBatch)\n",
        "\n",
        "    # Train the neural network\n",
        "    lossFunc = torch.nn.MSELoss()\n",
        "    optimizer = torch.optim.Adam(model.parameters(),lr=1e-4)\n",
        "\n",
        "    n_epochs = 500\n",
        "    print(\"Training...\")\n",
        "    print(\"_\" * 50)\n",
        "    for epoch in range(n_epochs):\n",
        "    # Print something every 10 epochs of training\n",
        "        if epoch%10 == 0:\n",
        "            #print('=>Starting {}/{} epochs.'.format(epoch+1,n_epochs))\n",
        "            print('.', end='')\n",
        "        # Train the model\n",
        "        for minibatch in range(numMiniBatch):\n",
        "            prediction = model(inputMiniBatches[minibatch])\n",
        "            loss = lossFunc(prediction,outputMiniBatches[minibatch])\n",
        "            optimizer.zero_grad()\n",
        "            loss.backward()\n",
        "            optimizer.step()\n",
        "\n",
        "    # Save model\n",
        "    torch.save(model.state_dict(), 'model_weights.pth')\n",
        "    print()\n",
        "    print(\"Training done!\")\n"
      ],
      "outputs": [],
      "metadata": {
        "id": "j97ZF3D1_0Lc"
      }
    },
    {
      "cell_type": "code",
      "execution_count": null,
      "source": [
        "def plotResults():\n",
        "    model.load_state_dict(torch.load('model_weights.pth'))\n",
        "\n",
        "    model.eval()\n",
        "\n",
        "    realX = [ ]\n",
        "    realY = [ ]\n",
        "    modelY = [ ]\n",
        "\n",
        "    incrmSize = 1/100\n",
        "\n",
        "    for i in range((-100*domain), (100*domain), 1):\n",
        "        x = model(torch.tensor([i*incrmSize, (i+1)*incrmSize])) #N elements here\n",
        "        modelY.append(x[0].tolist())\n",
        "        #modelY.append(x[1].tolist())\n",
        "        realX.append(i*incrmSize)\n",
        "        realY.append((i*incrmSize)**3)\n",
        "\n",
        "    # Plot results   \n",
        "    plt.plot(realX, modelY)\n",
        "    plt.plot(realX, realY)"
      ],
      "outputs": [],
      "metadata": {
        "id": "7I_3_aNLDVDv"
      }
    },
    {
      "cell_type": "markdown",
      "source": [
        "Create the Model"
      ],
      "metadata": {
        "id": "NZCKACQ-iq1e"
      }
    },
    {
      "cell_type": "markdown",
      "source": [
        "The model can be trained multiple times for more accurate results."
      ],
      "metadata": {
        "id": "Sl2cK5oCftmz"
      }
    },
    {
      "cell_type": "code",
      "execution_count": null,
      "source": [
        "makeTrainingData(10, 3)\n",
        "trainModel()\n",
        "plotResults()"
      ],
      "outputs": [
        {
          "output_type": "stream",
          "name": "stdout",
          "text": [
            "Inputs:\n",
            "tensor([[-14.3069,  10.5696],\n",
            "        [-20.4211,  -1.8305],\n",
            "        [ 19.5763,  20.9499],\n",
            "        ...,\n",
            "        [ 18.3154, -23.4816],\n",
            "        [ 21.2948,  21.3984],\n",
            "        [ -7.9155,  21.9700]])\n",
            "Outputs:\n",
            "tensor([[204.6867, 111.7156],\n",
            "        [417.0193,   3.3506],\n",
            "        [383.2296, 438.9002],\n",
            "        ...,\n",
            "        [335.4527, 551.3832],\n",
            "        [453.4701, 457.8900],\n",
            "        [ 62.6545, 482.6819]])\n",
            "Training...\n",
            "__________________________________________________\n",
            "..................................................\n",
            "Training done!\n"
          ]
        },
        {
          "output_type": "display_data",
          "data": {
            "image/png": "[encoded data removed]",
            "text/plain": [
              "<Figure size 432x288 with 1 Axes>"
            ]
          },
          "metadata": {
            "needs_background": "light"
          }
        }
      ],
      "metadata": {
        "colab": {
          "base_uri": "https://localhost:8080/",
          "height": 605
        },
        "id": "D-HbAHXQfbBh",
        "outputId": "9950fe8a-b8eb-4fcb-b398-543f835b0d7e"
      }
    },
    {
      "cell_type": "code",
      "execution_count": null,
      "source": [
        "plotResults()"
      ],
      "outputs": [
        {
          "output_type": "display_data",
          "data": {
            "image/png": "[encoded data removed]",
            "text/plain": [
              "<Figure size 432x288 with 1 Axes>"
            ]
          },
          "metadata": {
            "needs_background": "light"
          }
        }
      ],
      "metadata": {
        "colab": {
          "base_uri": "https://localhost:8080/",
          "height": 265
        },
        "id": "k69x2FjxpAEj",
        "outputId": "dbd51733-26a8-43cc-cbf3-e772d8f315a1"
      }
    },
    {
      "cell_type": "markdown",
      "source": [
        "by next week: try gpu and caml"
      ],
      "metadata": {
        "id": "jRpojVMerheU"
      }
    }
  ]
}
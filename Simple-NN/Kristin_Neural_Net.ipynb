{
  "nbformat": 4,
  "nbformat_minor": 0,
  "metadata": {
    "colab": {
      "name": "Kristin_Neural_Net.ipynb",
      "provenance": []
    },
    "kernelspec": {
      "name": "python3",
      "display_name": "Python 3"
    },
    "language_info": {
      "name": "python"
    }
  },
  "cells": [
    {
      "cell_type": "code",
      "metadata": {
        "id": "DBvZrJLpzNr2"
      },
      "source": [
        "import torch\n",
        "import math\n",
        "import matplotlib.pyplot as plt"
      ],
      "execution_count": 56,
      "outputs": []
    },
    {
      "cell_type": "code",
      "metadata": {
        "id": "e5VnDFw2zxfd"
      },
      "source": [
        "# Determine set size, list size, and domain\n",
        "set_size = 3\n",
        "list_size = 10000\n",
        "domain = 10 # from negative to positive domain value"
      ],
      "execution_count": 57,
      "outputs": []
    },
    {
      "cell_type": "code",
      "metadata": {
        "id": "bc-wJiDdzzCv"
      },
      "source": [
        "# Function for the neural network to learn \n",
        "def funcOutput(data):\n",
        "  return data**2"
      ],
      "execution_count": 58,
      "outputs": []
    },
    {
      "cell_type": "code",
      "metadata": {
        "id": "CGTNyDJB0IbA"
      },
      "source": [
        "# Generate inputs and ouputs\n",
        "# Create a list of sets of N random numbers\n",
        "inputs = 2*domain*torch.rand((list_size, set_size), dtype = torch.float32) - (domain)\n",
        "# Determine output as function of input\n",
        "outputs = funcOutput(inputs)"
      ],
      "execution_count": 59,
      "outputs": []
    },
    {
      "cell_type": "code",
      "metadata": {
        "colab": {
          "base_uri": "https://localhost:8080/"
        },
        "id": "orDCupbF0Kqv",
        "outputId": "0f8a2271-be66-4976-deb9-8e236d2f5934"
      },
      "source": [
        "# Check inputs and outputs\n",
        "print('A few inputs: \\n {}'.format(inputs[:5]))\n",
        "print('A few outputs: \\n {}'.format(outputs[:5]))"
      ],
      "execution_count": 60,
      "outputs": [
        {
          "output_type": "stream",
          "name": "stdout",
          "text": [
            "A few inputs: \n",
            " tensor([[-5.9749, -1.9968, -0.0935],\n",
            "        [ 9.3142,  2.2072, -1.7530],\n",
            "        [-4.9291,  3.0504,  7.3534],\n",
            "        [-2.5503,  6.8518, -3.7885],\n",
            "        [-1.1325, -4.8719,  7.1891]])\n",
            "A few outputs: \n",
            " tensor([[3.5700e+01, 3.9874e+00, 8.7469e-03],\n",
            "        [8.6754e+01, 4.8719e+00, 3.0731e+00],\n",
            "        [2.4296e+01, 9.3049e+00, 5.4073e+01],\n",
            "        [6.5043e+00, 4.6947e+01, 1.4353e+01],\n",
            "        [1.2826e+00, 2.3735e+01, 5.1683e+01]])\n"
          ]
        }
      ]
    },
    {
      "cell_type": "code",
      "metadata": {
        "id": "H9qwQ5KV0MPA"
      },
      "source": [
        "# Create a single-layer neural network\n",
        "hidden_nodes = 5000\n",
        "model = torch.nn.Sequential(\n",
        "    torch.nn.Linear(inputs.shape[1],hidden_nodes),\n",
        "    torch.nn.ReLU(),\n",
        "    torch.nn.Linear(hidden_nodes,outputs.shape[1])\n",
        ")"
      ],
      "execution_count": 61,
      "outputs": []
    },
    {
      "cell_type": "code",
      "metadata": {
        "colab": {
          "base_uri": "https://localhost:8080/"
        },
        "id": "FItPb0IF0O0Z",
        "outputId": "2ed1f56e-991b-42b2-a6da-5f38c89e2be2"
      },
      "source": [
        "# Get ready to train\n",
        "model.train()\n",
        "\n",
        "# Break the list up into smaller batches for more efficient training\n",
        "numMiniBatch = int(math.floor(inputs.shape[0]/100))\n",
        "inputMiniBatches = inputs.chunk(numMiniBatch)\n",
        "outputMiniBatches = outputs.chunk(numMiniBatch)\n",
        "\n",
        "# Train the neural network\n",
        "lossFunc = torch.nn.MSELoss()\n",
        "optimizer = torch.optim.Adam(model.parameters(),lr=1e-4)\n",
        "\n",
        "n_epochs = 500\n",
        "\n",
        "print(\"Training\", \"\\n\", \"_\"*int(n_epochs/10), sep = '')\n",
        "for epoch in range(n_epochs):\n",
        "  # Print something every 10 epochs of training\n",
        "  if epoch%10 == 0:\n",
        "    print('*', end = '')\n",
        "  for minibatch in range(numMiniBatch):\n",
        "    prediction = model(inputMiniBatches[minibatch])\n",
        "    loss = lossFunc(prediction,outputMiniBatches[minibatch])\n",
        "    optimizer.zero_grad()\n",
        "    loss.backward()\n",
        "    optimizer.step()\n",
        "\n",
        "\n",
        "print ('\\nTraining done!')"
      ],
      "execution_count": 64,
      "outputs": [
        {
          "output_type": "stream",
          "name": "stdout",
          "text": [
            "Training\n",
            "__________________________________________________\n",
            "**************************************************\n",
            "Training done!\n"
          ]
        }
      ]
    },
    {
      "cell_type": "code",
      "metadata": {
        "colab": {
          "base_uri": "https://localhost:8080/",
          "height": 282
        },
        "id": "QqTYYcxX0RzC",
        "outputId": "f3097c9f-907e-401a-fc7c-ab356022e0f4"
      },
      "source": [
        "# Check out the output by running the model in evaluation\n",
        "with torch.no_grad():\n",
        "  model.eval()\n",
        "  test = domain*torch.rand((list_size, set_size), dtype = torch.float32) - (domain/2)\n",
        "  desired_output = funcOutput(test)\n",
        "  prediction = model(test)\n",
        "\n",
        "# Poltting predicted output versus desired output\n",
        "plt.scatter(test, desired_output, c = 'black', s = 4, alpha = 0.2)\n",
        "plt.scatter(test, prediction, c = 'red', s = 0.25, alpha = 0.2)"
      ],
      "execution_count": 65,
      "outputs": [
        {
          "output_type": "execute_result",
          "data": {
            "text/plain": [
              "<matplotlib.collections.PathCollection at 0x7f0b9f786dd0>"
            ]
          },
          "metadata": {},
          "execution_count": 65
        },
        {
          "output_type": "display_data",
          "data": {
            "image/png": "[encoded data removed]",
            "text/plain": [
              "<Figure size 432x288 with 1 Axes>"
            ]
          },
          "metadata": {
            "needs_background": "light"
          }
        }
      ]
    }
  ]
}

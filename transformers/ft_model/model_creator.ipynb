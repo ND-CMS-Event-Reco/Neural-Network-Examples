{
 "cells": [
  {
   "cell_type": "code",
   "execution_count": null,
   "id": "983ea017",
   "metadata": {},
   "outputs": [],
   "source": [
    "import torch\n",
    "import torch.nn as nn\n",
    "import numpy as np    \n",
    "import ft_model.ftransformer as ftransformer\n",
    "import ft_model.ftutils as ftutils\n",
    "import matplotlib.pyplot as plt"
   ]
  },
  {
   "cell_type": "code",
   "execution_count": null,
   "id": "e3e468dd",
   "metadata": {},
   "outputs": [],
   "source": [
    "device = torch.device('cuda' if torch.cuda.is_available() else 'cpu')\n",
    "\n",
    "d_model = 16\n",
    "n_head = 1\n",
    "n_layers = 2\n",
    "\n",
    "N = 30000\n",
    "seq_len = 3\n",
    "model = ftransformer.FloatTransformer(d_model, n_head, n_layers, device, pos_encoding = False).to(device)\n",
    "src, tgt = ftutils.generateSeqs(N, seq_len, operation = \"subtraction\")\n",
    "opt = torch.optim.Adam(model.parameters(), lr=0.0001)\n",
    "criterion = nn.MSELoss()\n",
    "scheduler = torch.optim.lr_scheduler.ExponentialLR(opt, gamma=0.95)\n",
    "num_batch, src_batches, tgt_batches = ftutils.batchify(src, tgt)\n",
    "    \n",
    "print(src_batches[0][0])\n",
    "print(tgt_batches[0][0])\n",
    "    \n",
    "n_epochs = 500\n",
    "best_model, loss, epochs = ftutils.train(model, n_epochs, opt, criterion, scheduler, device, src_batches, tgt_batches, num_batch)\n",
    "\n",
    "plt.plot(epochs, loss)\n",
    "plt.show()"
   ]
  },
  {
   "cell_type": "code",
   "execution_count": null,
   "id": "f0e9120a",
   "metadata": {},
   "outputs": [],
   "source": [
    "#trial_in = torch.tensor([[[np.pi], [0.5], [0.5], [0.2], [-np.pi]]]).to(device)\n",
    "#trial_out = torch.tensor([[[np.pi], [0.0], [0.3]]]).to(device)\n",
    "\n",
    "#src_mask = model.get_tgt_mask(5).to(device)\n",
    "#tgt_mask = model.get_tgt_mask(3).to(device)\n",
    "#model(trial_in, trial_out, src_mask, tgt_mask)"
   ]
  },
  {
   "cell_type": "code",
   "execution_count": null,
   "id": "27bce567",
   "metadata": {},
   "outputs": [],
   "source": [
    "## Convention\n",
    "# File name of model: OPERATION_NAME_tfmr_dmodel-nhead-layer\n",
    "torch.save(model.state_dict(), 'subt_tfmr_16-1-1')"
   ]
  },
  {
   "cell_type": "code",
   "execution_count": null,
   "id": "ff453b7b",
   "metadata": {},
   "outputs": [],
   "source": []
  }
 ],
 "metadata": {
  "kernelspec": {
   "display_name": "Python 3 (ipykernel)",
   "language": "python",
   "name": "python3"
  },
  "language_info": {
   "codemirror_mode": {
    "name": "ipython",
    "version": 3
   },
   "file_extension": ".py",
   "mimetype": "text/x-python",
   "name": "python",
   "nbconvert_exporter": "python",
   "pygments_lexer": "ipython3",
   "version": "3.8.10"
  }
 },
 "nbformat": 4,
 "nbformat_minor": 5
}

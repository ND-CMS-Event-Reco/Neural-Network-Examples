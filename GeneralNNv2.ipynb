{
 "cells": [
  {
   "cell_type": "code",
   "execution_count": 20,
   "metadata": {
    "id": "Di-fHleY8X-W"
   },
   "outputs": [],
   "source": [
    "import math\n",
    "import matplotlib.pyplot as plt\n",
    "import torch\n",
    "from torch import nn"
   ]
  },
  {
   "cell_type": "code",
   "execution_count": 68,
   "metadata": {
    "colab": {
     "base_uri": "https://localhost:8080/"
    },
    "id": "XTbxl8sX80j5",
    "outputId": "8e6e496a-b1c2-4cf7-e945-5b3d4a9ddd9c"
   },
   "outputs": [],
   "source": [
    "# Use gpu if available\n",
    "if torch.cuda.is_available():\n",
    "    device = \"cuda\"\n",
    "else:\n",
    "    device = \"cpu\"\n",
    "\n",
    "dataSize = 100000\n",
    "domain = 8 # Deal with input having a domain of -domain to +domain\n",
    "N = 2 # N elements in later array\n",
    "\n",
    "# Function that the neural network will learn\n",
    "def funcOutput(inputs):\n",
    "    return torch.exp(inputs)*torch.cos(inputs)\n",
    "\n",
    "inputs = torch.zeros(dataSize, N)\n",
    "outputs = inputs\n",
    "\n",
    "def makeTrainingData(domain, N, dataSize):\n",
    "    # Create a list of sets of N random numbers for training data\n",
    "    inputs = torch.FloatTensor(dataSize, N).uniform_((-1*domain),domain).to(device)\n",
    "    outputs = funcOutput(inputs).to(device)\n",
    "\n",
    "    # Print input and output tensor training data\n",
    "    print(\"Inputs:\")\n",
    "    print(inputs)\n",
    "    print(\"Outputs:\")\n",
    "    print(outputs)\n",
    "    \n",
    "    return inputs, outputs"
   ]
  },
  {
   "cell_type": "code",
   "execution_count": 69,
   "metadata": {
    "id": "PaMtVJQC_zg3"
   },
   "outputs": [],
   "source": [
    "# Create the neural network\n",
    "hidden_nodes = 5000\n",
    "\n",
    "def makeModel(hidden_nodes):\n",
    "    model = torch.nn.Sequential(\n",
    "       torch.nn.Linear(inputs.shape[1],hidden_nodes),\n",
    "        torch.nn.ReLU(),\n",
    "        #torch.nn.Linear(hidden_nodes,hidden_nodes),\n",
    "        #torch.nn.ReLU(),\n",
    "        torch.nn.Linear(hidden_nodes,outputs.shape[1])\n",
    "        ).to(device)\n",
    "    \n",
    "    return model"
   ]
  },
  {
   "cell_type": "code",
   "execution_count": 70,
   "metadata": {
    "id": "j97ZF3D1_0Lc"
   },
   "outputs": [],
   "source": [
    "def trainModel(inputs, outputs):\n",
    "    # Get ready to train\n",
    "    model.train().to(device)\n",
    "\n",
    "    # Break the list up into smaller batches for more efficient training\n",
    "    numMiniBatch = int(math.floor(inputs.shape[0]/100.))\n",
    "    inputMiniBatches = inputs.chunk(numMiniBatch)\n",
    "    outputMiniBatches = outputs.chunk(numMiniBatch)\n",
    "\n",
    "    # Train the neural network\n",
    "    lossFunc = torch.nn.MSELoss().to(device)\n",
    "    optimizer = torch.optim.Adam(model.parameters(),lr=1e-4)\n",
    "\n",
    "    n_epochs = 500\n",
    "    print(\"Training...\")\n",
    "    print(\"_\" * 50)\n",
    "    for epoch in range(n_epochs):\n",
    "    # Print something every 10 epochs of training\n",
    "        if epoch%10 == 0:\n",
    "            #print('=>Starting {}/{} epochs.'.format(epoch+1,n_epochs))\n",
    "            print('.', end='')\n",
    "        # Train the model\n",
    "        for minibatch in range(numMiniBatch):\n",
    "            prediction = model(inputMiniBatches[minibatch]).to(device)\n",
    "            loss = lossFunc(prediction,outputMiniBatches[minibatch]).to(device)\n",
    "            optimizer.zero_grad()\n",
    "            loss.backward()\n",
    "            optimizer.step()\n",
    "\n",
    "    print()\n",
    "    print(\"Training done!\")"
   ]
  },
  {
   "cell_type": "code",
   "execution_count": 71,
   "metadata": {
    "id": "7I_3_aNLDVDv"
   },
   "outputs": [],
   "source": [
    "def plotResults(inputs, outputs):\n",
    "    model.eval()\n",
    "    incrmSize = 100\n",
    "    realX = torch.linspace(-domain, domain, int(2*domain*incrmSize))\n",
    "    realY = funcOutput(realX)\n",
    "    modelY = []\n",
    "\n",
    "    for i in range((-domain*incrmSize), (domain*incrmSize), 1):\n",
    "        x = model(torch.tensor([i/incrmSize, (i+1)/incrmSize]).to(device)) #N elements here\n",
    "        modelY.append(x[0].tolist())\n",
    "\n",
    "    # Plot results   \n",
    "    plt.scatter(realX, modelY, s = 10)\n",
    "    plt.plot(realX, realY, 'r')"
   ]
  },
  {
   "cell_type": "markdown",
   "metadata": {
    "id": "NZCKACQ-iq1e"
   },
   "source": [
    "Create the Model"
   ]
  },
  {
   "cell_type": "markdown",
   "metadata": {
    "id": "Sl2cK5oCftmz"
   },
   "source": [
    "The model can be trained multiple times for more accurate results."
   ]
  },
  {
   "cell_type": "code",
   "execution_count": 72,
   "metadata": {
    "colab": {
     "base_uri": "https://localhost:8080/",
     "height": 605
    },
    "id": "D-HbAHXQfbBh",
    "outputId": "9950fe8a-b8eb-4fcb-b398-543f835b0d7e"
   },
   "outputs": [
    {
     "name": "stdout",
     "output_type": "stream",
     "text": [
      "Inputs:\n",
      "tensor([[-3.2607,  1.2552],\n",
      "        [-6.9341,  3.1797],\n",
      "        [ 1.5587,  2.5329],\n",
      "        ...,\n",
      "        [-5.9115, -6.9151],\n",
      "        [-3.5204, -4.3460],\n",
      "        [ 5.4017,  7.0903]], device='cuda:0')\n",
      "Outputs:\n",
      "tensor([[-3.8090e-02,  1.0890e+00],\n",
      "        [ 7.7481e-04, -2.4023e+01],\n",
      "        [ 5.7450e-02, -1.0328e+01],\n",
      "        ...,\n",
      "        [ 2.5231e-03,  8.0105e-04],\n",
      "        [-2.7491e-02, -4.6418e-03],\n",
      "        [ 1.4107e+02,  8.3009e+02]], device='cuda:0')\n"
     ]
    }
   ],
   "source": [
    "inputs, outputs = makeTrainingData(domain, N, dataSize)\n",
    "model = makeModel(hidden_nodes)"
   ]
  },
  {
   "cell_type": "code",
   "execution_count": 73,
   "metadata": {
    "colab": {
     "base_uri": "https://localhost:8080/",
     "height": 265
    },
    "id": "k69x2FjxpAEj",
    "outputId": "dbd51733-26a8-43cc-cbf3-e772d8f315a1"
   },
   "outputs": [
    {
     "name": "stdout",
     "output_type": "stream",
     "text": [
      "Training...\n",
      "__________________________________________________\n",
      "..................................................\n",
      "Training done!\n"
     ]
    },
    {
     "data": {
      "image/png": "[encoded data removed]",
      "text/plain": [
       "<Figure size 432x288 with 1 Axes>"
      ]
     },
     "metadata": {
      "needs_background": "light"
     },
     "output_type": "display_data"
    }
   ],
   "source": [
    "trainModel(inputs, outputs)\n",
    "plotResults(inputs, outputs)"
   ]
  },
  {
   "cell_type": "markdown",
   "metadata": {
    "id": "jRpojVMerheU"
   },
   "source": [
    "NOTE: Not sure if training in cuda makes it faster with program coded as is."
   ]
  }
 ],
 "metadata": {
  "colab": {
   "collapsed_sections": [],
   "name": "Rachel-n^2.ipynb",
   "provenance": []
  },
  "interpreter": {
   "hash": "203f0f36c38a13ce78875153ce5b45afd1f0afe71879bf308342ffcdf3ba613f"
  },
  "kernelspec": {
   "display_name": "Python 3",
   "language": "python",
   "name": "python3"
  },
  "language_info": {
   "codemirror_mode": {
    "name": "ipython",
    "version": 3
   },
   "file_extension": ".py",
   "mimetype": "text/x-python",
   "name": "python",
   "nbconvert_exporter": "python",
   "pygments_lexer": "ipython3",
   "version": "3.6.8"
  }
 },
 "nbformat": 4,
 "nbformat_minor": 2
}

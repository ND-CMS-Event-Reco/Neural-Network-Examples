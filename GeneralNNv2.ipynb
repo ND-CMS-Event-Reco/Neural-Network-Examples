{
  "nbformat": 4,
  "nbformat_minor": 0,
  "metadata": {
    "colab": {
      "name": "GeneralNNv2.ipynb",
      "provenance": [],
      "collapsed_sections": []
    },
    "interpreter": {
      "hash": "203f0f36c38a13ce78875153ce5b45afd1f0afe71879bf308342ffcdf3ba613f"
    },
    "kernelspec": {
      "display_name": "Python 3",
      "language": "python",
      "name": "python3"
    },
    "language_info": {
      "codemirror_mode": {
        "name": "ipython",
        "version": 3
      },
      "file_extension": ".py",
      "mimetype": "text/x-python",
      "name": "python",
      "nbconvert_exporter": "python",
      "pygments_lexer": "ipython3",
      "version": "3.6.8"
    }
  },
  "cells": [
    {
      "cell_type": "markdown",
      "metadata": {
        "id": "ryCSKyaZIwxv"
      },
      "source": [
        "#Setting Things Up"
      ]
    },
    {
      "cell_type": "code",
      "metadata": {
        "id": "Di-fHleY8X-W"
      },
      "source": [
        "import math\n",
        "import matplotlib.pyplot as plt\n",
        "import torch\n",
        "from torch import nn"
      ],
      "execution_count": null,
      "outputs": []
    },
    {
      "cell_type": "code",
      "metadata": {
        "id": "XTbxl8sX80j5"
      },
      "source": [
        "# Use gpu if available\n",
        "if torch.cuda.is_available():\n",
        "    device = \"cuda\"\n",
        "else:\n",
        "    device = \"cpu\""
      ],
      "execution_count": null,
      "outputs": []
    },
    {
      "cell_type": "code",
      "metadata": {
        "id": "mmagq93WEzml"
      },
      "source": [
        "# Determining data array dimensions and domain\n",
        "\n",
        "dataSize = 10000   #rows in data array\n",
        "N = 2               #columns in data array, ie number of elements in each data set\n",
        "domain = 8          #input constrained to -domain to +domain"
      ],
      "execution_count": null,
      "outputs": []
    },
    {
      "cell_type": "code",
      "metadata": {
        "id": "RBVMnYcpEtO8"
      },
      "source": [
        "# Function that the neural network will learn\n",
        "\n",
        "def funcOutput(data):\n",
        "    return data**2"
      ],
      "execution_count": null,
      "outputs": []
    },
    {
      "cell_type": "code",
      "metadata": {
        "id": "E-JybIv9EwUG"
      },
      "source": [
        "# Function to generate data\n",
        "\n",
        "def makeTrainingData(domain, N, dataSize):\n",
        "    # Create a list of sets of N random numbers for training data\n",
        "    inputs = torch.FloatTensor(dataSize, N).uniform_((-1*domain),domain).to(device)\n",
        "    outputs = funcOutput(inputs).to(device)\n",
        "\n",
        "    # Print a sample of input and output tensor training data\n",
        "    print('A few inputs: \\n {}'.format(inputs[:5]))\n",
        "    print('A few outputs: \\n {}'.format(outputs[:5]))\n",
        "    \n",
        "    return inputs, outputs"
      ],
      "execution_count": null,
      "outputs": []
    },
    {
      "cell_type": "code",
      "metadata": {
        "id": "PaMtVJQC_zg3"
      },
      "source": [
        "# Function to create the neural network\n",
        "\n",
        "# Define number of hidden nodes\n",
        "hidden_nodes = 5000\n",
        "\n",
        "def makeModel(hidden_nodes):\n",
        "    model = torch.nn.Sequential(\n",
        "       torch.nn.Linear(inputs.shape[1],hidden_nodes),\n",
        "        torch.nn.ReLU(),\n",
        "        #torch.nn.Linear(hidden_nodes,hidden_nodes),\n",
        "        #torch.nn.ReLU(),\n",
        "        torch.nn.Linear(hidden_nodes,outputs.shape[1])\n",
        "        ).to(device)\n",
        "    \n",
        "    return model"
      ],
      "execution_count": null,
      "outputs": []
    },
    {
      "cell_type": "code",
      "metadata": {
        "id": "j97ZF3D1_0Lc"
      },
      "source": [
        "# Function to train the neural network\n",
        "def trainModel(inputs, outputs):\n",
        "    # Get ready to train\n",
        "    model.train().to(device)\n",
        "\n",
        "    # Break the list up into smaller batches for more efficient training\n",
        "    numMiniBatch = int(math.floor(inputs.shape[0]/100.))\n",
        "    inputMiniBatches = inputs.chunk(numMiniBatch)\n",
        "    outputMiniBatches = outputs.chunk(numMiniBatch)\n",
        "\n",
        "    # Train the neural network\n",
        "    lossFunc = torch.nn.MSELoss().to(device)\n",
        "    optimizer = torch.optim.Adam(model.parameters(),lr=1e-4)\n",
        "\n",
        "    n_epochs = 500\n",
        "    print(\"Training\")\n",
        "    print(\"_\" * 50)\n",
        "    for epoch in range(n_epochs):\n",
        "    # Print something every 10 epochs of training\n",
        "        if epoch%10 == 0:\n",
        "            #print('=>Starting {}/{} epochs.'.format(epoch+1,n_epochs))\n",
        "            print('.', end='')\n",
        "        # Train the model\n",
        "        for minibatch in range(numMiniBatch):\n",
        "            prediction = model(inputMiniBatches[minibatch]).to(device)\n",
        "            loss = lossFunc(prediction,outputMiniBatches[minibatch]).to(device)\n",
        "            optimizer.zero_grad()\n",
        "            loss.backward()\n",
        "            optimizer.step()\n",
        "\n",
        "    print(\"\\nTraining done!\")"
      ],
      "execution_count": null,
      "outputs": []
    },
    {
      "cell_type": "code",
      "metadata": {
        "id": "7I_3_aNLDVDv"
      },
      "source": [
        "# Function to plot results\n",
        "\n",
        "def plotResults():\n",
        "  # Check out the output by running the model in evaluation\n",
        "  with torch.no_grad():\n",
        "    model.eval()\n",
        "    test = 2*domain*torch.rand((dataSize, N), dtype = torch.float32) - (domain)\n",
        "    desired_output = funcOutput(test)\n",
        "    prediction = model(test)\n",
        "\n",
        "  # Poltting predicted output versus desired output\n",
        "  plt.scatter(test, desired_output, c = 'black', s = 4, alpha = 0.2)\n",
        "  plt.scatter(test, prediction, c = 'red', s = 0.25, alpha = 0.2)"
      ],
      "execution_count": null,
      "outputs": []
    },
    {
      "cell_type": "markdown",
      "metadata": {
        "id": "NZCKACQ-iq1e"
      },
      "source": [
        "# Execution"
      ]
    },
    {
      "cell_type": "markdown",
      "metadata": {
        "id": "Sl2cK5oCftmz"
      },
      "source": [
        "The model can be trained multiple times for more accurate results."
      ]
    },
    {
      "cell_type": "code",
      "metadata": {
        "colab": {
          "base_uri": "https://localhost:8080/"
        },
        "id": "D-HbAHXQfbBh",
        "outputId": "a7a611b1-80d9-4697-b1a2-4d1deb901a60"
      },
      "source": [
        "inputs, outputs = makeTrainingData(domain, N, dataSize)\n",
        "model = makeModel(hidden_nodes)"
      ],
      "execution_count": null,
      "outputs": [
        {
          "output_type": "stream",
          "name": "stdout",
          "text": [
            "A few inputs: \n",
            " tensor([[ 5.1099,  2.8832],\n",
            "        [ 0.1722, -7.9736],\n",
            "        [-5.1266, -4.0004],\n",
            "        [ 5.6851,  4.9117],\n",
            "        [ 4.9648, -1.8269]])\n",
            "A few outputs: \n",
            " tensor([[2.6111e+01, 8.3127e+00],\n",
            "        [2.9648e-02, 6.3579e+01],\n",
            "        [2.6282e+01, 1.6003e+01],\n",
            "        [3.2320e+01, 2.4124e+01],\n",
            "        [2.4649e+01, 3.3377e+00]])\n"
          ]
        }
      ]
    },
    {
      "cell_type": "code",
      "metadata": {
        "colab": {
          "base_uri": "https://localhost:8080/"
        },
        "id": "k69x2FjxpAEj",
        "outputId": "ea5f2c96-2469-417b-bd9b-19f3dfa3622a"
      },
      "source": [
        "trainModel(inputs, outputs)"
      ],
      "execution_count": null,
      "outputs": [
        {
          "output_type": "stream",
          "name": "stdout",
          "text": [
            "Training\n",
            "__________________________________________________\n",
            "..................................................\n",
            " Training done!\n"
          ]
        }
      ]
    },
    {
      "cell_type": "code",
      "metadata": {
        "colab": {
          "base_uri": "https://localhost:8080/",
          "height": 265
        },
        "id": "IgFof1_H_qhQ",
        "outputId": "d3bc2f70-235e-41ec-b01d-b494dcef97ba"
      },
      "source": [
        "plotResults()"
      ],
      "execution_count": null,
      "outputs": [
        {
          "output_type": "display_data",
          "data": {
            "image/png": "[encoded data removed]",
            "text/plain": [
              "<Figure size 432x288 with 1 Axes>"
            ]
          },
          "metadata": {
            "needs_background": "light"
          }
        }
      ]
    },
    {
      "cell_type": "markdown",
      "metadata": {
        "id": "jRpojVMerheU"
      },
      "source": [
        "NOTE: Not sure if training in cuda makes it faster with program coded as is."
      ]
    }
  ]
}